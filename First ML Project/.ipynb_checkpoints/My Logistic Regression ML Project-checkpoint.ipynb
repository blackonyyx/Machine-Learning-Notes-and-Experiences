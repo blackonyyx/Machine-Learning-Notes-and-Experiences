{
 "cells": [
  {
   "cell_type": "code",
   "execution_count": 4,
   "metadata": {},
   "outputs": [],
   "source": [
    "import numpy as np\n",
    "import os\n",
    "import pandas as pd\n",
    "import matplotlib.pyplot as plt\n",
    "%matplotlib inline\n",
    "from sklearn.model_selection import train_test_split\n",
    "from sklearn.linear_model import LogisticRegression\n",
    "from scipy.io import loadmat\n",
    "from subprocess import check_output\n",
    "import seaborn as sns\n",
    "from keras_preprocessing.image import ImageDataGenerator\n",
    "mnist = loadmat(\"emnist-byclass.mat\")\n",
    "from sklearn.utils import check_random_state\n",
    "from sklearn.preprocessing import StandardScaler\n",
    "import time\n",
    "from skimage import transform as tsf\n",
    "import math\n",
    "import random"
   ]
  },
  {
   "cell_type": "code",
   "execution_count": 5,
   "metadata": {},
   "outputs": [
    {
     "data": {
      "text/plain": [
       "dict_keys(['__header__', '__version__', '__globals__', 'dataset'])"
      ]
     },
     "execution_count": 5,
     "metadata": {},
     "output_type": "execute_result"
    }
   ],
   "source": [
    "dict.keys(mnist)"
   ]
  },
  {
   "cell_type": "code",
   "execution_count": 6,
   "metadata": {},
   "outputs": [],
   "source": [
    "mapping = mnist['dataset'][0][0][2] #mapping"
   ]
  },
  {
   "cell_type": "code",
   "execution_count": 7,
   "metadata": {
    "scrolled": false
   },
   "outputs": [],
   "source": [
    "test = mnist['dataset'][0][0][1] #the testing split of the dataset"
   ]
  },
  {
   "cell_type": "code",
   "execution_count": 8,
   "metadata": {},
   "outputs": [],
   "source": [
    "train = mnist['dataset'][0][0][0]#trainingsplit of the dataset"
   ]
  },
  {
   "cell_type": "code",
   "execution_count": 9,
   "metadata": {},
   "outputs": [
    {
     "data": {
      "text/plain": [
       "array([[  0,  48],\n",
       "       [  1,  49],\n",
       "       [  2,  50],\n",
       "       [  3,  51],\n",
       "       [  4,  52],\n",
       "       [  5,  53],\n",
       "       [  6,  54],\n",
       "       [  7,  55],\n",
       "       [  8,  56],\n",
       "       [  9,  57],\n",
       "       [ 10,  65],\n",
       "       [ 11,  66],\n",
       "       [ 12,  67],\n",
       "       [ 13,  68],\n",
       "       [ 14,  69],\n",
       "       [ 15,  70],\n",
       "       [ 16,  71],\n",
       "       [ 17,  72],\n",
       "       [ 18,  73],\n",
       "       [ 19,  74],\n",
       "       [ 20,  75],\n",
       "       [ 21,  76],\n",
       "       [ 22,  77],\n",
       "       [ 23,  78],\n",
       "       [ 24,  79],\n",
       "       [ 25,  80],\n",
       "       [ 26,  81],\n",
       "       [ 27,  82],\n",
       "       [ 28,  83],\n",
       "       [ 29,  84],\n",
       "       [ 30,  85],\n",
       "       [ 31,  86],\n",
       "       [ 32,  87],\n",
       "       [ 33,  88],\n",
       "       [ 34,  89],\n",
       "       [ 35,  90],\n",
       "       [ 36,  97],\n",
       "       [ 37,  98],\n",
       "       [ 38,  99],\n",
       "       [ 39, 100],\n",
       "       [ 40, 101],\n",
       "       [ 41, 102],\n",
       "       [ 42, 103],\n",
       "       [ 43, 104],\n",
       "       [ 44, 105],\n",
       "       [ 45, 106],\n",
       "       [ 46, 107],\n",
       "       [ 47, 108],\n",
       "       [ 48, 109],\n",
       "       [ 49, 110],\n",
       "       [ 50, 111],\n",
       "       [ 51, 112],\n",
       "       [ 52, 113],\n",
       "       [ 53, 114],\n",
       "       [ 54, 115],\n",
       "       [ 55, 116],\n",
       "       [ 56, 117],\n",
       "       [ 57, 118],\n",
       "       [ 58, 119],\n",
       "       [ 59, 120],\n",
       "       [ 60, 121],\n",
       "       [ 61, 122]], dtype=uint8)"
      ]
     },
     "execution_count": 9,
     "metadata": {},
     "output_type": "execute_result"
    }
   ],
   "source": [
    "mapping"
   ]
  },
  {
   "cell_type": "code",
   "execution_count": 10,
   "metadata": {},
   "outputs": [
    {
     "data": {
      "text/plain": [
       "array([35], dtype=uint8)"
      ]
     },
     "execution_count": 10,
     "metadata": {},
     "output_type": "execute_result"
    }
   ],
   "source": [
    "mnist['dataset'][0][0][0][0][0][1][0]#label"
   ]
  },
  {
   "cell_type": "code",
   "execution_count": 11,
   "metadata": {},
   "outputs": [
    {
     "data": {
      "text/plain": [
       "array([2376], dtype=uint16)"
      ]
     },
     "execution_count": 11,
     "metadata": {},
     "output_type": "execute_result"
    }
   ],
   "source": [
    "mnist['dataset'][0][0][0][0][0][2][0]#writer"
   ]
  },
  {
   "cell_type": "code",
   "execution_count": 12,
   "metadata": {},
   "outputs": [
    {
     "data": {
      "text/plain": [
       "(697932, 784)"
      ]
     },
     "execution_count": 12,
     "metadata": {},
     "output_type": "execute_result"
    }
   ],
   "source": [
    "train[0][0][0].shape# From this we can see there are 697932 training images"
   ]
  },
  {
   "cell_type": "code",
   "execution_count": 13,
   "metadata": {},
   "outputs": [
    {
     "data": {
      "text/plain": [
       "(116323, 784)"
      ]
     },
     "execution_count": 13,
     "metadata": {},
     "output_type": "execute_result"
    }
   ],
   "source": [
    "test[0][0][0].shape # 116323 test images used"
   ]
  },
  {
   "cell_type": "code",
   "execution_count": 25,
   "metadata": {},
   "outputs": [
    {
     "name": "stdout",
     "output_type": "stream",
     "text": [
      "[3]\n",
      "[612]\n"
     ]
    },
    {
     "data": {
      "image/png": "[encoded data removed]",
      "text/plain": [
       "<Figure size 432x288 with 1 Axes>"
      ]
     },
     "metadata": {
      "needs_background": "light"
     },
     "output_type": "display_data"
    }
   ],
   "source": [
    "def reformat(array):\n",
    "    array = array.reshape([28, 28])\n",
    "    array = np.fliplr(array)\n",
    "    array = np.rot90(array)#reformats the data \n",
    "    return array.reshape([28 , 28])\n",
    "def display(i):\n",
    "    image = mnist['dataset'][0][0][0][0][0][0][i]\n",
    "    label = mnist['dataset'][0][0][0][0][0][1][i]\n",
    "    writer = mnist['dataset'][0][0][0][0][0][2][i]\n",
    "    print(label)\n",
    "    print(writer)\n",
    "    plt.imshow(reformat(image), cmap='Greys')\n",
    "    plt.show()\n",
    "display(3)\n",
    "#Example displayed character"
   ]
  },
  {
   "cell_type": "code",
   "execution_count": 26,
   "metadata": {},
   "outputs": [],
   "source": [
    "trainingLabels = train[0][0][1]#array of Arrays containing the label\n",
    "trainingImages = train[0][0][0]#array of Arrays of 784 numbers representing the image to display\n",
    "trainingWriters = train[0][0][2]#Array of Arrays containing the writer\n",
    "testLabels = test[0][0][1]#array of Arrays containing the label\n",
    "testImages = test[0][0][0]#array of Arrays of 784 numbers representing the image to display\n",
    "testWriters = test[0][0][2]#Array of Arrays containing the writer"
   ]
  },
  {
   "cell_type": "code",
   "execution_count": 27,
   "metadata": {},
   "outputs": [],
   "source": [
    "trainimageset = pd.DataFrame(data = trainingImages[0:,0:], index = [i for i in range(trainingImages.shape[0])],columns = ['p'+str(i) for i in range(trainingImages.shape[1])])\n",
    "trainlabelset = pd.DataFrame(data = trainingLabels, columns =['labels'])\n",
    "trainwriterset = pd.DataFrame(trainingWriters,columns=['writers'])\n",
    "testimageset = pd.DataFrame(data = testImages[0:,0:], index = [i for i in range(testImages.shape[0])],columns = ['p'+str(i) for i in range(testImages.shape[1])])\n",
    "testlabelset = pd.DataFrame(data = testLabels, columns =['labels'])\n",
    "testwriterset = pd.DataFrame(testWriters,columns=['writers'])"
   ]
  },
  {
   "cell_type": "code",
   "execution_count": 28,
   "metadata": {},
   "outputs": [],
   "source": [
    "traindataset = pd.concat([trainlabelset,trainimageset],axis = 1)\n",
    "testdataset = pd.concat([testlabelset,testimageset],axis = 1)"
   ]
  },
  {
   "cell_type": "code",
   "execution_count": 29,
   "metadata": {},
   "outputs": [
    {
     "data": {
      "text/plain": [
       "array([[35],\n",
       "       [36],\n",
       "       [ 6],\n",
       "       ...,\n",
       "       [ 5],\n",
       "       [11],\n",
       "       [22]], dtype=uint8)"
      ]
     },
     "execution_count": 29,
     "metadata": {},
     "output_type": "execute_result"
    }
   ],
   "source": [
    "trainingLabels"
   ]
  },
  {
   "cell_type": "code",
   "execution_count": 30,
   "metadata": {},
   "outputs": [],
   "source": [
    "characters = {}\n",
    "for array in mapping:\n",
    "    characters[array[0]] = chr(array[1])\n",
    "#DLabel Pipeline Operators\n",
    "def numericalFilter(x):\n",
    "    return x<10\n",
    "def alphabeticalFilter(x):\n",
    "    return x>=10\n",
    "def alphabeticalMapper(x):\n",
    "    # forces capitalised and non capitalised letters into same category\n",
    "    # Assumption that filter has filtered out non charater ascii, returns actual data mapping\n",
    "    y = x\n",
    "    if y<=35:\n",
    "        y+=26\n",
    "    \n",
    "    return characters[y]\n",
    "\n",
    "def characterMapper(x):\n",
    "    #applied for analysing numerical characters\n",
    "    return characters[x]"
   ]
  },
  {
   "cell_type": "code",
   "execution_count": 31,
   "metadata": {},
   "outputs": [
    {
     "name": "stderr",
     "output_type": "stream",
     "text": [
      "//anaconda3/lib/python3.7/site-packages/ipykernel_launcher.py:5: SettingWithCopyWarning: \n",
      "A value is trying to be set on a copy of a slice from a DataFrame.\n",
      "Try using .loc[row_indexer,col_indexer] = value instead\n",
      "\n",
      "See the caveats in the documentation: http://pandas.pydata.org/pandas-docs/stable/user_guide/indexing.html#returning-a-view-versus-a-copy\n",
      "  \"\"\"\n",
      "//anaconda3/lib/python3.7/site-packages/ipykernel_launcher.py:6: SettingWithCopyWarning: \n",
      "A value is trying to be set on a copy of a slice from a DataFrame.\n",
      "Try using .loc[row_indexer,col_indexer] = value instead\n",
      "\n",
      "See the caveats in the documentation: http://pandas.pydata.org/pandas-docs/stable/user_guide/indexing.html#returning-a-view-versus-a-copy\n",
      "  \n"
     ]
    }
   ],
   "source": [
    "classes = traindataset.copy(deep = True)\n",
    "alphabets = traindataset.groupby(traindataset[\"labels\"].apply(numericalFilter)).get_group(0)#All alphabetical entries\n",
    "numbers = traindataset.groupby(traindataset[\"labels\"].apply(numericalFilter)).get_group(1)#All numerical entries\n",
    "classes[\"labels\"] = classes[\"labels\"].apply(characterMapper)\n",
    "numbers[\"labels\"] = numbers[\"labels\"].apply(characterMapper)\n",
    "alphabets[\"labels\"] = alphabets[\"labels\"].apply(alphabeticalMapper)\n",
    "\n",
    "#To view by classes\n",
    "#classes.groupby([\"labels\"]).get_group(\"<Your Character here>\")\n",
    "#numbers.groupby([\"labels\"]).get_group(\"<Your Number here>\")\n",
    "#alphabets.groupby([\"labels\"]).get_group(\"<Your Lowercase character here>\")"
   ]
  },
  {
   "cell_type": "code",
   "execution_count": 32,
   "metadata": {},
   "outputs": [
    {
     "data": {
      "text/plain": [
       "1     6330\n",
       "7     6139\n",
       "3     5969\n",
       "2     5869\n",
       "0     5778\n",
       "      ... \n",
       "41     400\n",
       "20     382\n",
       "60     381\n",
       "51     368\n",
       "45     317\n",
       "Name: labels, Length: 62, dtype: int64"
      ]
     },
     "execution_count": 32,
     "metadata": {},
     "output_type": "execute_result"
    },
    {
     "data": {
      "image/png": "[encoded data removed]",
      "text/plain": [
       "<Figure size 432x288 with 1 Axes>"
      ]
     },
     "metadata": {
      "needs_background": "light"
     },
     "output_type": "display_data"
    }
   ],
   "source": [
    "testlabelset.hist(bins = 61)\n",
    "testlabelset[\"labels\"].value_counts()"
   ]
  },
  {
   "cell_type": "code",
   "execution_count": 33,
   "metadata": {},
   "outputs": [],
   "source": [
    "#ByClassSplit: Characters and Numbers\n",
    "charplottrain = trainlabelset[alphabeticalFilter].dropna().applymap(alphabeticalMapper)\n",
    "charplottest = testlabelset[alphabeticalFilter].dropna().applymap(alphabeticalMapper)\n",
    "numberplottrain = trainlabelset[numericalFilter].dropna().applymap(characterMapper)\n",
    "numberplottest = testlabelset[numericalFilter].dropna().applymap(characterMapper)"
   ]
  },
  {
   "cell_type": "code",
   "execution_count": 34,
   "metadata": {},
   "outputs": [],
   "source": [
    "chartest = charplottest['labels'].value_counts().sort_index()\n",
    "chartrain = charplottrain['labels'].value_counts()"
   ]
  },
  {
   "cell_type": "code",
   "execution_count": 35,
   "metadata": {},
   "outputs": [
    {
     "data": {
      "text/plain": [
       "<matplotlib.axes._subplots.AxesSubplot at 0x1a1b969b38>"
      ]
     },
     "execution_count": 35,
     "metadata": {},
     "output_type": "execute_result"
    },
    {
     "data": {
      "image/png": "[encoded data removed]",
      "text/plain": [
       "<Figure size 432x288 with 1 Axes>"
      ]
     },
     "metadata": {
      "needs_background": "light"
     },
     "output_type": "display_data"
    }
   ],
   "source": [
    "chartest.plot(kind = \"bar\",title = \"Barchart Plot of Test dataset by character\",fontsize = 15)"
   ]
  },
  {
   "cell_type": "code",
   "execution_count": 36,
   "metadata": {
    "scrolled": false
   },
   "outputs": [
    {
     "data": {
      "text/plain": [
       "<matplotlib.axes._subplots.AxesSubplot at 0x1c4313fac8>"
      ]
     },
     "execution_count": 36,
     "metadata": {},
     "output_type": "execute_result"
    },
    {
     "data": {
      "image/png": "[encoded data removed]",
      "text/plain": [
       "<Figure size 432x288 with 1 Axes>"
      ]
     },
     "metadata": {
      "needs_background": "light"
     },
     "output_type": "display_data"
    }
   ],
   "source": [
    "chartrain.plot(kind = \"bar\",title = \"Barchart Plot of Train dataset by character\",fontsize = 15)"
   ]
  },
  {
   "cell_type": "markdown",
   "metadata": {},
   "source": [
    "As can be seen from above the dataset is not balanced with a skew towards some letters over others"
   ]
  },
  {
   "cell_type": "code",
   "execution_count": 37,
   "metadata": {},
   "outputs": [
    {
     "data": {
      "text/plain": [
       "<matplotlib.axes._subplots.AxesSubplot at 0x1c428c6208>"
      ]
     },
     "execution_count": 37,
     "metadata": {},
     "output_type": "execute_result"
    },
    {
     "data": {
      "image/png": "[encoded data removed]",
      "text/plain": [
       "<Figure size 432x288 with 1 Axes>"
      ]
     },
     "metadata": {
      "needs_background": "light"
     },
     "output_type": "display_data"
    }
   ],
   "source": [
    "numberplottrain['labels'].value_counts().sort_index().plot(kind = \"bar\",title = \"Barchart Plot of Train dataset by Digit\",fontsize = 20)\n"
   ]
  },
  {
   "cell_type": "code",
   "execution_count": 38,
   "metadata": {
    "scrolled": false
   },
   "outputs": [
    {
     "data": {
      "text/plain": [
       "<matplotlib.axes._subplots.AxesSubplot at 0x1c4344ba90>"
      ]
     },
     "execution_count": 38,
     "metadata": {},
     "output_type": "execute_result"
    },
    {
     "data": {
      "image/png": "[encoded data removed]",
      "text/plain": [
       "<Figure size 432x288 with 1 Axes>"
      ]
     },
     "metadata": {
      "needs_background": "light"
     },
     "output_type": "display_data"
    }
   ],
   "source": [
    "numberplottest['labels'].value_counts().sort_index().plot(kind = \"bar\",title = \"Barchart Plot of Test dataset by Digit\",fontsize = 20)\n"
   ]
  },
  {
   "cell_type": "markdown",
   "metadata": {},
   "source": [
    "As can be observed above, the training and testing datasets with regards to numerical \n",
    "handwritten digits is relatively balanced"
   ]
  },
  {
   "cell_type": "code",
   "execution_count": 39,
   "metadata": {},
   "outputs": [
    {
     "name": "stdout",
     "output_type": "stream",
     "text": [
      "[3]\n"
     ]
    },
    {
     "data": {
      "image/png": "[encoded data removed]",
      "text/plain": [
       "<Figure size 432x288 with 1 Axes>"
      ]
     },
     "metadata": {
      "needs_background": "light"
     },
     "output_type": "display_data"
    }
   ],
   "source": [
    "#Displaying Images\n",
    "def reformat(array):\n",
    "    array = array.reshape([28, 28])\n",
    "    array = np.fliplr(array)\n",
    "    array = np.rot90(array)#reformats the data \n",
    "    return array.reshape([28 , 28])\n",
    "\n",
    "def display(i):\n",
    "    image = mnist['dataset'][0][0][0][0][0][0][i]\n",
    "    label = mnist['dataset'][0][0][0][0][0][1][i]\n",
    "    print(label)\n",
    "    plt.imshow(reformat(image), cmap='Greys')\n",
    "    plt.show()\n",
    "display(3)\n"
   ]
  },
  {
   "cell_type": "code",
   "execution_count": 40,
   "metadata": {},
   "outputs": [],
   "source": [
    "random_state = check_random_state(0)\n",
    "permutation1 = random_state.permutation(trainingImages.shape[0])#random shuffling of the dataset\n",
    "permutation2 = random_state.permutation(testImages.shape[0])\n",
    "X_train = trainingImages[permutation1]\n",
    "y_train = trainingLabels[permutation1]\n",
    "X_test = testImages[permutation2]\n",
    "y_test = testLabels[permutation2]\n",
    "\n",
    "scaler = StandardScaler()\n",
    "X_train = scaler.fit_transform(X_train)\n",
    "X_test = scaler.transform(X_test)\n",
    "train_samples = X_train.shape[0]\n",
    "logistic = LogisticRegression(C = 50/train_samples,penalty = 'l1',solver='saga',tol = 0.05, n_jobs = 4,multi_class = 'multinomial')\n",
    "#n_jobs parallelises the process.\n",
    "#solver is sag as the dataset is rather large and is multiclass"
   ]
  },
  {
   "cell_type": "code",
   "execution_count": null,
   "metadata": {},
   "outputs": [],
   "source": []
  },
  {
   "cell_type": "code",
   "execution_count": 28,
   "metadata": {},
   "outputs": [
    {
     "name": "stderr",
     "output_type": "stream",
     "text": [
      "//anaconda3/lib/python3.7/site-packages/sklearn/utils/validation.py:724: DataConversionWarning: A column-vector y was passed when a 1d array was expected. Please change the shape of y to (n_samples, ), for example using ravel().\n",
      "  y = column_or_1d(y, warn=True)\n"
     ]
    },
    {
     "name": "stdout",
     "output_type": "stream",
     "text": [
      "the training took 4721.467803001404 to complete\n"
     ]
    }
   ],
   "source": [
    "t0 = time.time()\n",
    "logistic.fit(X_train,y_train)\n",
    "t = time.time()\n",
    "print(f\"the training took {t-t0} to complete\")"
   ]
  },
  {
   "cell_type": "code",
   "execution_count": null,
   "metadata": {},
   "outputs": [],
   "source": []
  },
  {
   "cell_type": "code",
   "execution_count": 41,
   "metadata": {},
   "outputs": [
    {
     "ename": "AttributeError",
     "evalue": "'LogisticRegression' object has no attribute 'coef_'",
     "output_type": "error",
     "traceback": [
      "\u001b[0;31m---------------------------------------------------------------------------\u001b[0m",
      "\u001b[0;31mAttributeError\u001b[0m                            Traceback (most recent call last)",
      "\u001b[0;32m<ipython-input-41-d59aef13aa55>\u001b[0m in \u001b[0;36m<module>\u001b[0;34m\u001b[0m\n\u001b[0;32m----> 1\u001b[0;31m \u001b[0msparsity\u001b[0m \u001b[0;34m=\u001b[0m \u001b[0mnp\u001b[0m\u001b[0;34m.\u001b[0m\u001b[0mmean\u001b[0m\u001b[0;34m(\u001b[0m\u001b[0mlogistic\u001b[0m\u001b[0;34m.\u001b[0m\u001b[0mcoef_\u001b[0m \u001b[0;34m==\u001b[0m \u001b[0;36m0\u001b[0m\u001b[0;34m)\u001b[0m \u001b[0;34m*\u001b[0m \u001b[0;36m100\u001b[0m\u001b[0;34m\u001b[0m\u001b[0;34m\u001b[0m\u001b[0m\n\u001b[0m\u001b[1;32m      2\u001b[0m \u001b[0mscore\u001b[0m \u001b[0;34m=\u001b[0m \u001b[0mlogistic\u001b[0m\u001b[0;34m.\u001b[0m\u001b[0mscore\u001b[0m\u001b[0;34m(\u001b[0m\u001b[0mX_test\u001b[0m\u001b[0;34m,\u001b[0m \u001b[0my_test\u001b[0m\u001b[0;34m)\u001b[0m\u001b[0;34m\u001b[0m\u001b[0;34m\u001b[0m\u001b[0m\n",
      "\u001b[0;31mAttributeError\u001b[0m: 'LogisticRegression' object has no attribute 'coef_'"
     ]
    }
   ],
   "source": [
    "sparsity = np.mean(logistic.coef_ == 0) * 100\n",
    "score = logistic.score(X_test, y_test)"
   ]
  },
  {
   "cell_type": "code",
   "execution_count": null,
   "metadata": {},
   "outputs": [],
   "source": [
    "print(\"Sparsity with L1 penalty: %.2f%%\" % sparsity)\n",
    "print(\"Test score with L1 penalty: %.4f\" % score)"
   ]
  },
  {
   "cell_type": "code",
   "execution_count": 31,
   "metadata": {},
   "outputs": [
    {
     "data": {
      "text/plain": [
       "array([[35],\n",
       "       [36],\n",
       "       [ 6],\n",
       "       ...,\n",
       "       [ 5],\n",
       "       [11],\n",
       "       [22]], dtype=uint8)"
      ]
     },
     "execution_count": 31,
     "metadata": {},
     "output_type": "execute_result"
    }
   ],
   "source": [
    "trainingLabels"
   ]
  },
  {
   "cell_type": "code",
   "execution_count": 32,
   "metadata": {},
   "outputs": [
    {
     "data": {
      "text/plain": [
       "(784,)"
      ]
     },
     "execution_count": 32,
     "metadata": {},
     "output_type": "execute_result"
    }
   ],
   "source": [
    "trainingImages[0].shape"
   ]
  },
  {
   "cell_type": "code",
   "execution_count": 33,
   "metadata": {},
   "outputs": [],
   "source": [
    "y_pred = logistic.predict(X_test)"
   ]
  },
  {
   "cell_type": "code",
   "execution_count": 34,
   "metadata": {},
   "outputs": [],
   "source": [
    "from sklearn.metrics import *"
   ]
  },
  {
   "cell_type": "code",
   "execution_count": 35,
   "metadata": {},
   "outputs": [],
   "source": [
    "cm = confusion_matrix(y_test,y_pred)"
   ]
  },
  {
   "cell_type": "code",
   "execution_count": 36,
   "metadata": {},
   "outputs": [],
   "source": [
    "labs = \"0123456789ABCDEFGHIJKLMNOPQRSTUVWXYZabcdefghijklmnopqrstuvwxyz\"\n",
    "df_cm = pd.DataFrame(cm,index = [i for i in labs],columns = [i for i in labs])"
   ]
  },
  {
   "cell_type": "code",
   "execution_count": 37,
   "metadata": {},
   "outputs": [
    {
     "data": {
      "image/png": "[encoded data removed]",
      "text/plain": [
       "<Figure size 720x720 with 2 Axes>"
      ]
     },
     "metadata": {
      "needs_background": "light"
     },
     "output_type": "display_data"
    }
   ],
   "source": [
    "ticks=np.linspace(0, 61,num=62)\n",
    "plt.figure(figsize = (10,10))\n",
    "plt.imshow(cm, interpolation='none')\n",
    "plt.colorbar()\n",
    "plt.xticks(ticks,fontsize=6)\n",
    "plt.yticks(ticks,fontsize=6)\n",
    "plt.grid(False)\n",
    "plt.show()"
   ]
  },
  {
   "cell_type": "code",
   "execution_count": null,
   "metadata": {},
   "outputs": [],
   "source": []
  },
  {
   "cell_type": "markdown",
   "metadata": {},
   "source": [
    "Findings: Without the use of image preprocessing to expand the dataset for the classification of alphabets, we can observe that, the classification of digits is rather accurate, however, besides alphabets, the classification of other images, of handwritten alphabets is rather inaccurate. hence we will attempt to perform image augmentation on the alphabets to ensure that they are classified correctly."
   ]
  },
  {
   "cell_type": "code",
   "execution_count": 38,
   "metadata": {},
   "outputs": [
    {
     "name": "stderr",
     "output_type": "stream",
     "text": [
      "//anaconda3/lib/python3.7/site-packages/sklearn/metrics/classification.py:1437: UndefinedMetricWarning: F-score is ill-defined and being set to 0.0 in labels with no predicted samples.\n",
      "  'precision', 'predicted', average, warn_for)\n"
     ]
    },
    {
     "data": {
      "text/plain": [
       "0.31062860359199124"
      ]
     },
     "execution_count": 38,
     "metadata": {},
     "output_type": "execute_result"
    }
   ],
   "source": [
    "f1_score(y_true=y_test,y_pred=y_pred,average='weighted')"
   ]
  },
  {
   "cell_type": "markdown",
   "metadata": {},
   "source": [
    "DataPipelining:\n",
    "Now, with regards to the data, we are going to pipeline it to a balanced dataset size of 15000 of each class, as we extend the smallest classes and drop some data off the larger classes to achieve a balanced dataset of 930000 total images."
   ]
  },
  {
   "cell_type": "code",
   "execution_count": 39,
   "metadata": {},
   "outputs": [],
   "source": [
    "image = mnist['dataset'][0][0][0][0][0][0][1]\n",
    "image = image.reshape(28,28)\n",
    "#Pipeline:\n",
    "#reshapes the array to start the image augmentation process\n",
    "def unflipped(array):\n",
    "    return array\n",
    "def rotate90(arr):\n",
    "    return np.rot90(arr)\n",
    "def rotate180(arr):\n",
    "    return np.rot90(np.rot90(arr))\n",
    "def rotate270(arr):\n",
    "    return np.rot90(np.rot90(np.rot90(arr)))\n",
    "def flip_up_down(arr):\n",
    "    return np.flipud(arr)\n",
    "def flip_left_right(arr):\n",
    "    return np.fliplr(arr)\n",
    "def shear_right(arr):\n",
    "    return tsf.warp(arr,tform)\n",
    "def shear_left(arr):\n",
    "    return tsf.warp(x,tform.inverse)\n",
    "#flattens the array to end the process of image augmentation for the purposes of Logistic regression\n",
    "def flatten(arr):\n",
    "    return arr.flatten()\n",
    "tform = tsf.SimilarityTransform(scale=1, rotation=math.pi/4,\n",
    "                               translation=(image.shape[0]/2, -image.shape[1]/2))\n",
    "totalNumber = 15000\n",
    "trainlabelset[\"labels\"].value_counts()\n",
    "totalDatasetSize = totalNumber*62"
   ]
  },
  {
   "cell_type": "code",
   "execution_count": 40,
   "metadata": {},
   "outputs": [
    {
     "data": {
      "image/png": "[encoded data removed]",
      "text/plain": [
       "<Figure size 432x288 with 8 Axes>"
      ]
     },
     "metadata": {
      "needs_background": "light"
     },
     "output_type": "display_data"
    }
   ],
   "source": [
    "x = tsf.warp(image,tform)\n",
    "back_rotated = tsf.warp(x, tform.inverse)\n",
    "fig, ax = plt.subplots(ncols=8)\n",
    "\n",
    "ax[0].imshow(image, cmap=plt.cm.gray)\n",
    "ax[1].imshow(x, cmap=plt.cm.gray)\n",
    "ax[2].imshow(back_rotated, cmap=plt.cm.gray)\n",
    "ax[3].imshow(rotate90(image),cmap = plt.cm.gray)\n",
    "ax[4].imshow(rotate180(image),cmap = plt.cm.gray)\n",
    "ax[5].imshow(rotate270(image),cmap = plt.cm.gray)\n",
    "ax[6].imshow(flip_left_right(image),cmap = plt.cm.gray)\n",
    "ax[7].imshow(flip_up_down(image),cmap = plt.cm.gray)\n",
    "\n",
    "for a in ax:\n",
    "    a.axis('off')\n",
    "\n",
    "plt.tight_layout()\n"
   ]
  },
  {
   "cell_type": "code",
   "execution_count": 41,
   "metadata": {},
   "outputs": [],
   "source": [
    "ops = np.array([unflipped,rotate90,rotate180,rotate270,flip_up_down,flip_left_right,shear_right,shear_left])\n",
    "#The list of operations that can be carried out on the image"
   ]
  },
  {
   "cell_type": "code",
   "execution_count": 42,
   "metadata": {},
   "outputs": [],
   "source": [
    "newTrainingData = np.zeros(shape = (totalNumber*62,784))\n",
    "newLabels = np.zeros(shape = (totalNumber*62,1))"
   ]
  },
  {
   "cell_type": "code",
   "execution_count": null,
   "metadata": {
    "scrolled": true
   },
   "outputs": [],
   "source": []
  },
  {
   "cell_type": "code",
   "execution_count": null,
   "metadata": {},
   "outputs": [],
   "source": []
  },
  {
   "cell_type": "code",
   "execution_count": 43,
   "metadata": {},
   "outputs": [
    {
     "data": {
      "text/html": [
       "<div>\n",
       "<style scoped>\n",
       "    .dataframe tbody tr th:only-of-type {\n",
       "        vertical-align: middle;\n",
       "    }\n",
       "\n",
       "    .dataframe tbody tr th {\n",
       "        vertical-align: top;\n",
       "    }\n",
       "\n",
       "    .dataframe thead th {\n",
       "        text-align: right;\n",
       "    }\n",
       "</style>\n",
       "<table border=\"1\" class=\"dataframe\">\n",
       "  <thead>\n",
       "    <tr style=\"text-align: right;\">\n",
       "      <th></th>\n",
       "      <th>labels</th>\n",
       "      <th>p0</th>\n",
       "      <th>p1</th>\n",
       "      <th>p2</th>\n",
       "      <th>p3</th>\n",
       "      <th>p4</th>\n",
       "      <th>p5</th>\n",
       "      <th>p6</th>\n",
       "      <th>p7</th>\n",
       "      <th>p8</th>\n",
       "      <th>...</th>\n",
       "      <th>p774</th>\n",
       "      <th>p775</th>\n",
       "      <th>p776</th>\n",
       "      <th>p777</th>\n",
       "      <th>p778</th>\n",
       "      <th>p779</th>\n",
       "      <th>p780</th>\n",
       "      <th>p781</th>\n",
       "      <th>p782</th>\n",
       "      <th>p783</th>\n",
       "    </tr>\n",
       "  </thead>\n",
       "  <tbody>\n",
       "    <tr>\n",
       "      <th>0</th>\n",
       "      <td>35</td>\n",
       "      <td>0</td>\n",
       "      <td>0</td>\n",
       "      <td>0</td>\n",
       "      <td>0</td>\n",
       "      <td>0</td>\n",
       "      <td>0</td>\n",
       "      <td>0</td>\n",
       "      <td>0</td>\n",
       "      <td>0</td>\n",
       "      <td>...</td>\n",
       "      <td>0</td>\n",
       "      <td>0</td>\n",
       "      <td>0</td>\n",
       "      <td>0</td>\n",
       "      <td>0</td>\n",
       "      <td>0</td>\n",
       "      <td>0</td>\n",
       "      <td>0</td>\n",
       "      <td>0</td>\n",
       "      <td>0</td>\n",
       "    </tr>\n",
       "    <tr>\n",
       "      <th>1</th>\n",
       "      <td>36</td>\n",
       "      <td>0</td>\n",
       "      <td>0</td>\n",
       "      <td>0</td>\n",
       "      <td>0</td>\n",
       "      <td>0</td>\n",
       "      <td>0</td>\n",
       "      <td>0</td>\n",
       "      <td>0</td>\n",
       "      <td>0</td>\n",
       "      <td>...</td>\n",
       "      <td>0</td>\n",
       "      <td>0</td>\n",
       "      <td>0</td>\n",
       "      <td>0</td>\n",
       "      <td>0</td>\n",
       "      <td>0</td>\n",
       "      <td>0</td>\n",
       "      <td>0</td>\n",
       "      <td>0</td>\n",
       "      <td>0</td>\n",
       "    </tr>\n",
       "    <tr>\n",
       "      <th>2</th>\n",
       "      <td>6</td>\n",
       "      <td>0</td>\n",
       "      <td>0</td>\n",
       "      <td>0</td>\n",
       "      <td>0</td>\n",
       "      <td>0</td>\n",
       "      <td>0</td>\n",
       "      <td>0</td>\n",
       "      <td>0</td>\n",
       "      <td>0</td>\n",
       "      <td>...</td>\n",
       "      <td>0</td>\n",
       "      <td>0</td>\n",
       "      <td>0</td>\n",
       "      <td>0</td>\n",
       "      <td>0</td>\n",
       "      <td>0</td>\n",
       "      <td>0</td>\n",
       "      <td>0</td>\n",
       "      <td>0</td>\n",
       "      <td>0</td>\n",
       "    </tr>\n",
       "    <tr>\n",
       "      <th>3</th>\n",
       "      <td>3</td>\n",
       "      <td>0</td>\n",
       "      <td>0</td>\n",
       "      <td>0</td>\n",
       "      <td>0</td>\n",
       "      <td>0</td>\n",
       "      <td>0</td>\n",
       "      <td>0</td>\n",
       "      <td>0</td>\n",
       "      <td>0</td>\n",
       "      <td>...</td>\n",
       "      <td>0</td>\n",
       "      <td>0</td>\n",
       "      <td>0</td>\n",
       "      <td>0</td>\n",
       "      <td>0</td>\n",
       "      <td>0</td>\n",
       "      <td>0</td>\n",
       "      <td>0</td>\n",
       "      <td>0</td>\n",
       "      <td>0</td>\n",
       "    </tr>\n",
       "    <tr>\n",
       "      <th>4</th>\n",
       "      <td>22</td>\n",
       "      <td>0</td>\n",
       "      <td>0</td>\n",
       "      <td>0</td>\n",
       "      <td>0</td>\n",
       "      <td>0</td>\n",
       "      <td>0</td>\n",
       "      <td>0</td>\n",
       "      <td>0</td>\n",
       "      <td>0</td>\n",
       "      <td>...</td>\n",
       "      <td>0</td>\n",
       "      <td>0</td>\n",
       "      <td>0</td>\n",
       "      <td>0</td>\n",
       "      <td>0</td>\n",
       "      <td>0</td>\n",
       "      <td>0</td>\n",
       "      <td>0</td>\n",
       "      <td>0</td>\n",
       "      <td>0</td>\n",
       "    </tr>\n",
       "  </tbody>\n",
       "</table>\n",
       "<p>5 rows × 785 columns</p>\n",
       "</div>"
      ],
      "text/plain": [
       "   labels  p0  p1  p2  p3  p4  p5  p6  p7  p8  ...  p774  p775  p776  p777  \\\n",
       "0      35   0   0   0   0   0   0   0   0   0  ...     0     0     0     0   \n",
       "1      36   0   0   0   0   0   0   0   0   0  ...     0     0     0     0   \n",
       "2       6   0   0   0   0   0   0   0   0   0  ...     0     0     0     0   \n",
       "3       3   0   0   0   0   0   0   0   0   0  ...     0     0     0     0   \n",
       "4      22   0   0   0   0   0   0   0   0   0  ...     0     0     0     0   \n",
       "\n",
       "   p778  p779  p780  p781  p782  p783  \n",
       "0     0     0     0     0     0     0  \n",
       "1     0     0     0     0     0     0  \n",
       "2     0     0     0     0     0     0  \n",
       "3     0     0     0     0     0     0  \n",
       "4     0     0     0     0     0     0  \n",
       "\n",
       "[5 rows x 785 columns]"
      ]
     },
     "execution_count": 43,
     "metadata": {},
     "output_type": "execute_result"
    }
   ],
   "source": [
    "traindataset.head()"
   ]
  },
  {
   "cell_type": "code",
   "execution_count": null,
   "metadata": {},
   "outputs": [],
   "source": []
  },
  {
   "cell_type": "code",
   "execution_count": 45,
   "metadata": {},
   "outputs": [
    {
     "ename": "NameError",
     "evalue": "name 'filter1' is not defined",
     "output_type": "error",
     "traceback": [
      "\u001b[0;31m---------------------------------------------------------------------------\u001b[0m",
      "\u001b[0;31mNameError\u001b[0m                                 Traceback (most recent call last)",
      "\u001b[0;32m<ipython-input-45-8b6bdfd7084c>\u001b[0m in \u001b[0;36m<module>\u001b[0;34m\u001b[0m\n\u001b[0;32m----> 1\u001b[0;31m \u001b[0mtraindataset\u001b[0m\u001b[0;34m[\u001b[0m\u001b[0mfilter1\u001b[0m\u001b[0;34m]\u001b[0m\u001b[0;34m.\u001b[0m\u001b[0miloc\u001b[0m\u001b[0;34m[\u001b[0m\u001b[0;36m0\u001b[0m\u001b[0;34m:\u001b[0m\u001b[0;34m,\u001b[0m\u001b[0;36m1\u001b[0m\u001b[0;34m:\u001b[0m\u001b[0;34m]\u001b[0m\u001b[0;34m.\u001b[0m\u001b[0mas_matrix\u001b[0m\u001b[0;34m(\u001b[0m\u001b[0;34m)\u001b[0m\u001b[0;34m.\u001b[0m\u001b[0mshape\u001b[0m\u001b[0;34m\u001b[0m\u001b[0;34m\u001b[0m\u001b[0m\n\u001b[0m\u001b[1;32m      2\u001b[0m \u001b[0mtraindataset\u001b[0m\u001b[0;34m[\u001b[0m\u001b[0mfilter1\u001b[0m\u001b[0;34m]\u001b[0m\u001b[0;34m.\u001b[0m\u001b[0miloc\u001b[0m\u001b[0;34m[\u001b[0m\u001b[0;36m0\u001b[0m\u001b[0;34m:\u001b[0m\u001b[0;34m,\u001b[0m\u001b[0;36m0\u001b[0m\u001b[0;34m:\u001b[0m\u001b[0;36m1\u001b[0m\u001b[0;34m]\u001b[0m\u001b[0;34m.\u001b[0m\u001b[0mas_matrix\u001b[0m\u001b[0;34m(\u001b[0m\u001b[0;34m)\u001b[0m\u001b[0;34m.\u001b[0m\u001b[0mshape\u001b[0m\u001b[0;34m\u001b[0m\u001b[0;34m\u001b[0m\u001b[0m\n",
      "\u001b[0;31mNameError\u001b[0m: name 'filter1' is not defined"
     ]
    }
   ],
   "source": [
    "traindataset[filter1].iloc[0:,1:].as_matrix().shape\n",
    "traindataset[filter1].iloc[0:,0:1].as_matrix().shape"
   ]
  },
  {
   "cell_type": "code",
   "execution_count": 48,
   "metadata": {},
   "outputs": [
    {
     "name": "stderr",
     "output_type": "stream",
     "text": [
      "//anaconda3/lib/python3.7/site-packages/ipykernel_launcher.py:8: FutureWarning: Method .as_matrix will be removed in a future version. Use .values instead.\n",
      "  \n",
      "//anaconda3/lib/python3.7/site-packages/ipykernel_launcher.py:9: FutureWarning: Method .as_matrix will be removed in a future version. Use .values instead.\n",
      "  if __name__ == '__main__':\n"
     ]
    }
   ],
   "source": [
    "dex  = 0\n",
    "newTrainingData = np.zeros(shape = (totalNumber*62,784))\n",
    "newLabels = np.zeros(shape = (totalNumber*62,1))\n",
    "perClass = 15000\n",
    "for i in range(0,62):\n",
    "    datacount = 0\n",
    "    filt = traindataset[\"labels\"] == i\n",
    "    data = traindataset[filt].iloc[0:,1:].as_matrix()\n",
    "    labels = traindataset[filt].iloc[0:,0:1].as_matrix()\n",
    "    setsize = data.shape[0]\n",
    "    if setsize >= perClass:\n",
    "        dex +=perClass\n",
    "        newTrainingData[dex-15000:dex,0:] = data[0:15000,0:]\n",
    "        newLabels[dex-15000:dex,0:] = labels[0:15000,0:]\n",
    "    else:\n",
    "        #Image Preprocessing \n",
    "        scalefactor = math.ceil(15000/setsize)\n",
    "        augmentation = pipeline(data,scalefactor,perClass)\n",
    "        \n",
    "        \n",
    "        dex +=perClass\n",
    "        newTrainingData[dex-15000:dex,0:] = augmentation\n",
    "        newLabels[dex-15000:dex,0:] = np.full((perClass,1),i)    \n"
   ]
  },
  {
   "cell_type": "code",
   "execution_count": 24,
   "metadata": {},
   "outputs": [
    {
     "name": "stderr",
     "output_type": "stream",
     "text": [
      "//anaconda3/lib/python3.7/site-packages/ipykernel_launcher.py:9: FutureWarning: Method .as_matrix will be removed in a future version. Use .values instead.\n",
      "  if __name__ == '__main__':\n",
      "//anaconda3/lib/python3.7/site-packages/ipykernel_launcher.py:10: FutureWarning: Method .as_matrix will be removed in a future version. Use .values instead.\n",
      "  # Remove the CWD from sys.path while we load stuff.\n"
     ]
    },
    {
     "ename": "NameError",
     "evalue": "name 'pipeline' is not defined",
     "output_type": "error",
     "traceback": [
      "\u001b[0;31m---------------------------------------------------------------------------\u001b[0m",
      "\u001b[0;31mNameError\u001b[0m                                 Traceback (most recent call last)",
      "\u001b[0;32m<ipython-input-24-0335a46ee9de>\u001b[0m in \u001b[0;36m<module>\u001b[0;34m\u001b[0m\n\u001b[1;32m     17\u001b[0m         \u001b[0;31m#Image Preprocessing\u001b[0m\u001b[0;34m\u001b[0m\u001b[0;34m\u001b[0m\u001b[0;34m\u001b[0m\u001b[0m\n\u001b[1;32m     18\u001b[0m         \u001b[0mscalefactor\u001b[0m \u001b[0;34m=\u001b[0m \u001b[0mmath\u001b[0m\u001b[0;34m.\u001b[0m\u001b[0mceil\u001b[0m\u001b[0;34m(\u001b[0m\u001b[0mperTestClass\u001b[0m\u001b[0;34m/\u001b[0m\u001b[0msetsize\u001b[0m\u001b[0;34m)\u001b[0m\u001b[0;34m\u001b[0m\u001b[0;34m\u001b[0m\u001b[0m\n\u001b[0;32m---> 19\u001b[0;31m         \u001b[0maugmentation\u001b[0m \u001b[0;34m=\u001b[0m \u001b[0mpipeline\u001b[0m\u001b[0;34m(\u001b[0m\u001b[0mdata\u001b[0m\u001b[0;34m,\u001b[0m\u001b[0mscalefactor\u001b[0m\u001b[0;34m,\u001b[0m\u001b[0mperTestClass\u001b[0m\u001b[0;34m)\u001b[0m\u001b[0;34m\u001b[0m\u001b[0;34m\u001b[0m\u001b[0m\n\u001b[0m\u001b[1;32m     20\u001b[0m \u001b[0;34m\u001b[0m\u001b[0m\n\u001b[1;32m     21\u001b[0m \u001b[0;34m\u001b[0m\u001b[0m\n",
      "\u001b[0;31mNameError\u001b[0m: name 'pipeline' is not defined"
     ]
    }
   ],
   "source": [
    "dex  = 0\n",
    "perTestClass = 1000\n",
    "baltestData = np.zeros(shape = (perTestClass*62,784))\n",
    "baltestLabels = np.zeros(shape = (perTestClass*62,1))\n",
    "\n",
    "for i in range(0,62):\n",
    "    datacount = 0\n",
    "    filt = testdataset[\"labels\"] == i\n",
    "    data = testdataset[filt].iloc[0:,1:].as_matrix()\n",
    "    labels = testdataset[filt].iloc[0:,0:1].as_matrix()\n",
    "    setsize = data.shape[0]\n",
    "    if setsize >= perTestClass:\n",
    "        dex +=perTestClass\n",
    "        baltestData[dex-perTestClass:dex,0:] = data[0:perTestClass,0:]\n",
    "        baltestLabels[dex-perTestClass:dex,0:] = labels[0:perTestClass,0:]\n",
    "    else:\n",
    "        #Image Preprocessing \n",
    "        scalefactor = math.ceil(perTestClass/setsize)\n",
    "        augmentation = pipeline(data,scalefactor,perTestClass)\n",
    "        \n",
    "        \n",
    "        dex +=perTestClass\n",
    "        baltestData[dex-perTestClass:dex,0:] = augmentation\n",
    "        baltestLabels[dex-perTestClass:dex,0:] = np.full((perTestClass,1),i)        "
   ]
  },
  {
   "cell_type": "code",
   "execution_count": 23,
   "metadata": {},
   "outputs": [
    {
     "ename": "NameError",
     "evalue": "name 'baltestData' is not defined",
     "output_type": "error",
     "traceback": [
      "\u001b[0;31m---------------------------------------------------------------------------\u001b[0m",
      "\u001b[0;31mNameError\u001b[0m                                 Traceback (most recent call last)",
      "\u001b[0;32m<ipython-input-23-c54adbfd586f>\u001b[0m in \u001b[0;36m<module>\u001b[0;34m\u001b[0m\n\u001b[0;32m----> 1\u001b[0;31m \u001b[0mbaltestData\u001b[0m\u001b[0;34m.\u001b[0m\u001b[0mshape\u001b[0m\u001b[0;34m\u001b[0m\u001b[0;34m\u001b[0m\u001b[0m\n\u001b[0m",
      "\u001b[0;31mNameError\u001b[0m: name 'baltestData' is not defined"
     ]
    }
   ],
   "source": [
    "baltestData.shape"
   ]
  },
  {
   "cell_type": "code",
   "execution_count": 47,
   "metadata": {},
   "outputs": [],
   "source": [
    "def pipeline(imgs,scalefactor,perClass):\n",
    "    #takes in a array of arrays of images and labels and outputs 150000 images \n",
    "    newTrainingData = np.zeros(shape = (perClass,784))\n",
    "    count = 0#count of new images created\n",
    "    i = 0 # index of the original image\n",
    "    while count<perClass:\n",
    "        current = imgs[i].reshape(28,28)\n",
    "        toApply = np.random.choice(ops,size = scalefactor,replace = False)# choosing random values based on scalefactor\n",
    "        for op in toApply:\n",
    "            if count < perClass:\n",
    "                newTrainingData[count] = op(current).flatten()\n",
    "            count +=1\n",
    "        i+=1\n",
    "    return newTrainingData"
   ]
  },
  {
   "cell_type": "markdown",
   "metadata": {},
   "source": [
    "Now having pipelined the dataset through a image pre-processing pipeline to extend and make new data from the existing classes of unbalanced data, we will now use this balanced dataset to hopefully train a more effective logistic regression model"
   ]
  },
  {
   "cell_type": "code",
   "execution_count": 50,
   "metadata": {},
   "outputs": [],
   "source": [
    "random_state = check_random_state(0)\n",
    "permutation1 = random_state.permutation(newTrainingData.shape[0])#random shuffling of the dataset\n",
    "permutation2 = random_state.permutation(baltestData.shape[0])\n",
    "X_train = newTrainingData[permutation1]\n",
    "y_train = newLabels[permutation1]\n",
    "X_test = baltestData[permutation2]\n",
    "y_test = baltestLabels[permutation2]\n",
    "\n",
    "scaler = StandardScaler()\n",
    "X_train = scaler.fit_transform(X_train)\n",
    "X_test = scaler.transform(X_test)\n",
    "train_samples = X_train.shape[0]\n"
   ]
  },
  {
   "cell_type": "code",
   "execution_count": 51,
   "metadata": {},
   "outputs": [],
   "source": [
    "logistic2 = LogisticRegression(C = 50/train_samples,penalty = 'l1',solver='saga',tol = 0.1, n_jobs = 2,multi_class = 'ovr')"
   ]
  },
  {
   "cell_type": "markdown",
   "metadata": {},
   "source": [
    "In hindsight, the training of this model has certainly been a very long and tedious process. In future, the dataset should be kept at a smaller size in order to prevent it from taking too long to complete"
   ]
  },
  {
   "cell_type": "code",
   "execution_count": null,
   "metadata": {},
   "outputs": [
    {
     "name": "stderr",
     "output_type": "stream",
     "text": [
      "//anaconda3/lib/python3.7/site-packages/sklearn/utils/validation.py:724: DataConversionWarning: A column-vector y was passed when a 1d array was expected. Please change the shape of y to (n_samples, ), for example using ravel().\n",
      "  y = column_or_1d(y, warn=True)\n"
     ]
    }
   ],
   "source": [
    "t0 = time.time()\n",
    "logistic2.fit(X_train,y_train)\n",
    "t = time.time()\n",
    "print(f\"the training took {t-t0} to complete\")"
   ]
  },
  {
   "cell_type": "code",
   "execution_count": 244,
   "metadata": {},
   "outputs": [],
   "source": [
    "sparsity = np.mean(logistic2.coef_ == 0) * 100\n",
    "score = logistic2.score(X_test, y_test)"
   ]
  },
  {
   "cell_type": "code",
   "execution_count": 245,
   "metadata": {},
   "outputs": [
    {
     "name": "stdout",
     "output_type": "stream",
     "text": [
      "Sparsity with L1 penalty: 99.69%\n",
      "Test score with L1 penalty: 0.1538\n"
     ]
    }
   ],
   "source": [
    "print(\"Sparsity with L1 penalty: %.2f%%\" % sparsity)\n",
    "print(\"Test score with L1 penalty: %.4f\" % score)"
   ]
  },
  {
   "cell_type": "code",
   "execution_count": 246,
   "metadata": {},
   "outputs": [],
   "source": [
    "y_pred = logistic2.predict(X_test)"
   ]
  },
  {
   "cell_type": "code",
   "execution_count": 247,
   "metadata": {},
   "outputs": [
    {
     "name": "stderr",
     "output_type": "stream",
     "text": [
      "//anaconda3/lib/python3.7/site-packages/sklearn/metrics/classification.py:1437: UndefinedMetricWarning: F-score is ill-defined and being set to 0.0 in labels with no predicted samples.\n",
      "  'precision', 'predicted', average, warn_for)\n"
     ]
    },
    {
     "data": {
      "text/plain": [
       "0.07643366415100138"
      ]
     },
     "execution_count": 247,
     "metadata": {},
     "output_type": "execute_result"
    }
   ],
   "source": [
    "f1_score(y_true=y_test,y_pred=y_pred,average='weighted')"
   ]
  },
  {
   "cell_type": "code",
   "execution_count": 252,
   "metadata": {},
   "outputs": [
    {
     "data": {
      "image/png": "[encoded data removed]",
      "text/plain": [
       "<Figure size 720x720 with 2 Axes>"
      ]
     },
     "metadata": {
      "needs_background": "light"
     },
     "output_type": "display_data"
    }
   ],
   "source": [
    "cm = confusion_matrix(y_test,y_pred)\n",
    "ticks=np.linspace(0, 61,num=62)\n",
    "plt.figure(figsize = (10,10))\n",
    "plt.imshow(cm, interpolation='none')\n",
    "plt.colorbar()\n",
    "plt.xticks(ticks,fontsize=6)\n",
    "plt.yticks(ticks,fontsize=6)\n",
    "plt.grid(False)\n",
    "plt.show()"
   ]
  },
  {
   "cell_type": "markdown",
   "metadata": {},
   "source": [
    "The logistic regression above shows no improvement from the unbalanced class, but is still not learning very well,perhaps the lacking results could have to do with the use of a unbalanced testing dataset causing biased results and outputs.\n",
    "\n",
    "I am suspecting that such image augmentation techniques do not actually improve the learning rate very much for logistic regression."
   ]
  },
  {
   "cell_type": "code",
   "execution_count": 260,
   "metadata": {},
   "outputs": [
    {
     "name": "stderr",
     "output_type": "stream",
     "text": [
      "//anaconda3/lib/python3.7/site-packages/ipykernel_launcher.py:9: FutureWarning: Method .as_matrix will be removed in a future version. Use .values instead.\n",
      "  if __name__ == '__main__':\n",
      "//anaconda3/lib/python3.7/site-packages/ipykernel_launcher.py:10: FutureWarning: Method .as_matrix will be removed in a future version. Use .values instead.\n",
      "  # Remove the CWD from sys.path while we load stuff.\n"
     ]
    }
   ],
   "source": []
  },
  {
   "cell_type": "code",
   "execution_count": null,
   "metadata": {},
   "outputs": [],
   "source": []
  },
  {
   "cell_type": "code",
   "execution_count": 264,
   "metadata": {},
   "outputs": [],
   "source": [
    "permutation2 = random_state.permutation(baltestData.shape[0])\n",
    "X_test = baltestData[permutation2]\n",
    "y_test = baltestLabels[permutation2]"
   ]
  },
  {
   "cell_type": "code",
   "execution_count": 293,
   "metadata": {},
   "outputs": [],
   "source": [
    "y_pred = logistic2.predict(X_test)"
   ]
  },
  {
   "cell_type": "code",
   "execution_count": 294,
   "metadata": {},
   "outputs": [],
   "source": [
    "sparsity = np.mean(logistic2.coef_ == 0) * 100\n",
    "score = logistic2.score(X_test, y_test)"
   ]
  },
  {
   "cell_type": "code",
   "execution_count": 295,
   "metadata": {},
   "outputs": [
    {
     "name": "stdout",
     "output_type": "stream",
     "text": [
      "Sparsity with L1 penalty: 99.69%\n",
      "Test score with L1 penalty: 0.0492\n"
     ]
    }
   ],
   "source": [
    "print(\"Sparsity with L1 penalty: %.2f%%\" % sparsity)\n",
    "print(\"Test score with L1 penalty: %.4f\" % score)"
   ]
  },
  {
   "cell_type": "code",
   "execution_count": 296,
   "metadata": {},
   "outputs": [
    {
     "data": {
      "image/png": "[encoded data removed]",
      "text/plain": [
       "<Figure size 720x720 with 2 Axes>"
      ]
     },
     "metadata": {
      "needs_background": "light"
     },
     "output_type": "display_data"
    }
   ],
   "source": [
    "cm2 = confusion_matrix(y_test,y_pred)\n",
    "ticks=np.linspace(0, 61,num=62)\n",
    "plt.figure(figsize = (10,10))\n",
    "plt.imshow(cm2, interpolation='none')\n",
    "plt.colorbar()\n",
    "plt.xticks(ticks,fontsize=6)\n",
    "plt.yticks(ticks,fontsize=6)\n",
    "plt.grid(False)\n",
    "plt.show()"
   ]
  },
  {
   "cell_type": "code",
   "execution_count": 297,
   "metadata": {},
   "outputs": [
    {
     "name": "stdout",
     "output_type": "stream",
     "text": [
      "0.008201227280949479\n"
     ]
    },
    {
     "name": "stderr",
     "output_type": "stream",
     "text": [
      "//anaconda3/lib/python3.7/site-packages/sklearn/metrics/classification.py:1437: UndefinedMetricWarning: Precision is ill-defined and being set to 0.0 in labels with no predicted samples.\n",
      "  'precision', 'predicted', average, warn_for)\n"
     ]
    }
   ],
   "source": [
    "precision = precision_score(y_test,y_pred,average = \"weighted\")\n",
    "print(precision)"
   ]
  },
  {
   "cell_type": "code",
   "execution_count": 304,
   "metadata": {},
   "outputs": [
    {
     "data": {
      "text/plain": [
       "0.049241935483870965"
      ]
     },
     "execution_count": 304,
     "metadata": {},
     "output_type": "execute_result"
    }
   ],
   "source": [
    "recall_score(y_true=y_test,y_pred=y_pred,average= \"weighted\")"
   ]
  },
  {
   "cell_type": "code",
   "execution_count": 298,
   "metadata": {},
   "outputs": [
    {
     "name": "stderr",
     "output_type": "stream",
     "text": [
      "//anaconda3/lib/python3.7/site-packages/sklearn/metrics/classification.py:1437: UndefinedMetricWarning: F-score is ill-defined and being set to 0.0 in labels with no predicted samples.\n",
      "  'precision', 'predicted', average, warn_for)\n"
     ]
    },
    {
     "data": {
      "text/plain": [
       "0.009330122702781147"
      ]
     },
     "execution_count": 298,
     "metadata": {},
     "output_type": "execute_result"
    }
   ],
   "source": [
    "f1_score(y_true=y_test,y_pred=y_pred,average='weighted')"
   ]
  },
  {
   "cell_type": "code",
   "execution_count": 299,
   "metadata": {},
   "outputs": [
    {
     "data": {
      "image/png": "[encoded data removed]",
      "text/plain": [
       "<Figure size 432x288 with 1 Axes>"
      ]
     },
     "metadata": {
      "needs_background": "light"
     },
     "output_type": "display_data"
    }
   ],
   "source": [
    "reformat(X_test[1231])"
   ]
  },
  {
   "cell_type": "code",
   "execution_count": 300,
   "metadata": {},
   "outputs": [],
   "source": [
    "def reformat(array):\n",
    "    array = array.reshape([28, 28])\n",
    "    array = np.fliplr(array)\n",
    "    array = np.rot90(array)#reformats the data \n",
    "    plt.imshow(array.reshape([28 , 28]),cmap = \"Greys\")\n",
    "    plt.show()\n"
   ]
  },
  {
   "cell_type": "code",
   "execution_count": 301,
   "metadata": {},
   "outputs": [
    {
     "data": {
      "text/plain": [
       "'H'"
      ]
     },
     "execution_count": 301,
     "metadata": {},
     "output_type": "execute_result"
    }
   ],
   "source": [
    "def plot_multiclass_roc(clf, X_test, y_test, n_classes, figsize=(17, 6)):\n",
    "    y_score = clf.decision_function(X_test)\n",
    "\n",
    "    # structures\n",
    "    fpr = dict()\n",
    "    tpr = dict()\n",
    "    roc_auc = dict()\n",
    "\n",
    "    # calculate dummies once\n",
    "    y_test_dummies = pd.get_dummies(y_test, drop_first=False).values\n",
    "    for i in range(n_classes):\n",
    "        fpr[i], tpr[i], _ = roc_curve(y_test_dummies[:, i], y_score[:, i])\n",
    "        roc_auc[i] = auc(fpr[i], tpr[i])\n",
    "\n",
    "    # roc for each class\n",
    "    fig, ax = plt.subplots(figsize=figsize)\n",
    "    ax.plot([0, 1], [0, 1], 'k--')\n",
    "    ax.set_xlim([0.0, 1.0])\n",
    "    ax.set_ylim([0.0, 1.05])\n",
    "    ax.set_xlabel('False Positive Rate')\n",
    "    ax.set_ylabel('True Positive Rate')\n",
    "    ax.set_title('Receiver operating characteristic example')\n",
    "    for i in range(n_classes):\n",
    "        ax.plot(fpr[i], tpr[i], label='ROC curve (area = %0.2f) for label %i' % (roc_auc[i], i))\n",
    "    ax.legend(loc=\"best\")\n",
    "    ax.grid(alpha=.4)\n",
    "    sns.despine()\n",
    "    plt.show()\n",
    "\n",
    "plot_multiclass_roc(full_pipeline, X_test, y_test, n_classes=16, figsize=(16, 10))"
   ]
  },
  {
   "cell_type": "code",
   "execution_count": null,
   "metadata": {},
   "outputs": [],
   "source": []
  }
 ],
 "metadata": {
  "kernelspec": {
   "display_name": "Python 3",
   "language": "python",
   "name": "python3"
  },
  "language_info": {
   "codemirror_mode": {
    "name": "ipython",
    "version": 3
   },
   "file_extension": ".py",
   "mimetype": "text/x-python",
   "name": "python",
   "nbconvert_exporter": "python",
   "pygments_lexer": "ipython3",
   "version": "3.7.5"
  }
 },
 "nbformat": 4,
 "nbformat_minor": 2
}
